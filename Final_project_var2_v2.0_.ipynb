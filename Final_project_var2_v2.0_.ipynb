{
 "cells": [
  {
   "cell_type": "markdown",
   "metadata": {},
   "source": [
    "# Задание №1. Поиск 5 наиболее распространённых паттернов"
   ]
  },
  {
   "cell_type": "code",
   "execution_count": null,
   "metadata": {},
   "outputs": [],
   "source": [
    "# Хотелось бы отметить, что данное задание было одновременно и интересным, и сложным. \n",
    "# В ходе его выполнения пришлось прибегнуть к интернету для поиска новой информации (новых функций, модулей),\n",
    "# поэтому в выполнении использовался модуль, не упоминавшийся в курсе. "
   ]
  },
  {
   "cell_type": "code",
   "execution_count": 137,
   "metadata": {},
   "outputs": [],
   "source": [
    "# Для начала импортируем библиотеки \n",
    "\n",
    "import pandas as pd\n",
    "from itertools import combinations # в ходе выполнения проекта познакомилась с новым модулем :) "
   ]
  },
  {
   "cell_type": "code",
   "execution_count": 138,
   "metadata": {},
   "outputs": [],
   "source": [
    "products = pd.read_csv('https://stepik.org/media/attachments/lesson/409319/test1_completed.csv')"
   ]
  },
  {
   "cell_type": "code",
   "execution_count": 3,
   "metadata": {},
   "outputs": [
    {
     "data": {
      "text/html": [
       "<div>\n",
       "<style scoped>\n",
       "    .dataframe tbody tr th:only-of-type {\n",
       "        vertical-align: middle;\n",
       "    }\n",
       "\n",
       "    .dataframe tbody tr th {\n",
       "        vertical-align: top;\n",
       "    }\n",
       "\n",
       "    .dataframe thead th {\n",
       "        text-align: right;\n",
       "    }\n",
       "</style>\n",
       "<table border=\"1\" class=\"dataframe\">\n",
       "  <thead>\n",
       "    <tr style=\"text-align: right;\">\n",
       "      <th></th>\n",
       "      <th>id</th>\n",
       "      <th>Товар</th>\n",
       "      <th>Количество</th>\n",
       "    </tr>\n",
       "  </thead>\n",
       "  <tbody>\n",
       "    <tr>\n",
       "      <th>0</th>\n",
       "      <td>17119</td>\n",
       "      <td>Лимон</td>\n",
       "      <td>1.10</td>\n",
       "    </tr>\n",
       "    <tr>\n",
       "      <th>1</th>\n",
       "      <td>17119</td>\n",
       "      <td>Лимон оранжевый</td>\n",
       "      <td>0.70</td>\n",
       "    </tr>\n",
       "    <tr>\n",
       "      <th>2</th>\n",
       "      <td>17119</td>\n",
       "      <td>Лук-порей</td>\n",
       "      <td>10.00</td>\n",
       "    </tr>\n",
       "    <tr>\n",
       "      <th>3</th>\n",
       "      <td>17119</td>\n",
       "      <td>Лук репчатый</td>\n",
       "      <td>2.50</td>\n",
       "    </tr>\n",
       "    <tr>\n",
       "      <th>4</th>\n",
       "      <td>17119</td>\n",
       "      <td>Малина свежая</td>\n",
       "      <td>1.00</td>\n",
       "    </tr>\n",
       "    <tr>\n",
       "      <th>5</th>\n",
       "      <td>17119</td>\n",
       "      <td>Морковь немытая</td>\n",
       "      <td>1.40</td>\n",
       "    </tr>\n",
       "    <tr>\n",
       "      <th>6</th>\n",
       "      <td>17119</td>\n",
       "      <td>Черешня сушеная</td>\n",
       "      <td>1.80</td>\n",
       "    </tr>\n",
       "    <tr>\n",
       "      <th>7</th>\n",
       "      <td>17530</td>\n",
       "      <td>Лимон оранжевый</td>\n",
       "      <td>0.25</td>\n",
       "    </tr>\n",
       "    <tr>\n",
       "      <th>8</th>\n",
       "      <td>17530</td>\n",
       "      <td>Изюм Султана</td>\n",
       "      <td>0.50</td>\n",
       "    </tr>\n",
       "    <tr>\n",
       "      <th>9</th>\n",
       "      <td>17530</td>\n",
       "      <td>Капуста цветная</td>\n",
       "      <td>2.00</td>\n",
       "    </tr>\n",
       "  </tbody>\n",
       "</table>\n",
       "</div>"
      ],
      "text/plain": [
       "      id            Товар  Количество\n",
       "0  17119            Лимон        1.10\n",
       "1  17119  Лимон оранжевый        0.70\n",
       "2  17119        Лук-порей       10.00\n",
       "3  17119     Лук репчатый        2.50\n",
       "4  17119    Малина свежая        1.00\n",
       "5  17119  Морковь немытая        1.40\n",
       "6  17119  Черешня сушеная        1.80\n",
       "7  17530  Лимон оранжевый        0.25\n",
       "8  17530     Изюм Султана        0.50\n",
       "9  17530  Капуста цветная        2.00"
      ]
     },
     "execution_count": 3,
     "metadata": {},
     "output_type": "execute_result"
    }
   ],
   "source": [
    "products.head(10)"
   ]
  },
  {
   "cell_type": "code",
   "execution_count": 4,
   "metadata": {},
   "outputs": [
    {
     "data": {
      "text/plain": [
       "id              int64\n",
       "Товар          object\n",
       "Количество    float64\n",
       "dtype: object"
      ]
     },
     "execution_count": 4,
     "metadata": {},
     "output_type": "execute_result"
    }
   ],
   "source": [
    "# Смотрим, какие типы данных в таблице\n",
    "\n",
    "products.dtypes"
   ]
  },
  {
   "cell_type": "code",
   "execution_count": 5,
   "metadata": {},
   "outputs": [
    {
     "data": {
      "text/plain": [
       "id            0\n",
       "Товар         0\n",
       "Количество    0\n",
       "dtype: int64"
      ]
     },
     "execution_count": 5,
     "metadata": {},
     "output_type": "execute_result"
    }
   ],
   "source": [
    "# Проверяем, есть ли пропущенные значения \n",
    "\n",
    "products.isna().sum()"
   ]
  },
  {
   "cell_type": "code",
   "execution_count": 34,
   "metadata": {},
   "outputs": [],
   "source": [
    "products = products.rename(columns={'Товар': 'goods', 'Количество': 'amount'})"
   ]
  },
  {
   "cell_type": "code",
   "execution_count": 35,
   "metadata": {},
   "outputs": [],
   "source": [
    "# Для \"вычления\" пар продуктов используем функцию\n",
    "# itertools.combinations(iterable, [r]) - комбинации длиной r из iterable без повторяющихся элементов.\n",
    "\n",
    "pairs = []\n",
    "\n",
    "for i in products.id.unique():\n",
    "    goods = products[products.id == i]['goods'].to_list()\n",
    "    goods.sort()\n",
    "    \n",
    "    for j in list (combinations(goods,2)):\n",
    "        pairs.append(j) \n",
    "  "
   ]
  },
  {
   "cell_type": "code",
   "execution_count": 36,
   "metadata": {
    "scrolled": true
   },
   "outputs": [],
   "source": [
    "# Создаем новый датасет из получившихся значений, \n",
    "\n",
    "pairs = pd.DataFrame(pairs, columns=['good1', 'good2'])\n",
    "\n",
    "top = pairs.value_counts() \\\n",
    "    .to_frame() \\\n",
    "    .reset_index() \\\n",
    "    .head()"
   ]
  },
  {
   "cell_type": "code",
   "execution_count": 37,
   "metadata": {},
   "outputs": [
    {
     "data": {
      "text/html": [
       "<div>\n",
       "<style scoped>\n",
       "    .dataframe tbody tr th:only-of-type {\n",
       "        vertical-align: middle;\n",
       "    }\n",
       "\n",
       "    .dataframe tbody tr th {\n",
       "        vertical-align: top;\n",
       "    }\n",
       "\n",
       "    .dataframe thead th {\n",
       "        text-align: right;\n",
       "    }\n",
       "</style>\n",
       "<table border=\"1\" class=\"dataframe\">\n",
       "  <thead>\n",
       "    <tr style=\"text-align: right;\">\n",
       "      <th></th>\n",
       "      <th>good1</th>\n",
       "      <th>good2</th>\n",
       "      <th>0</th>\n",
       "    </tr>\n",
       "  </thead>\n",
       "  <tbody>\n",
       "    <tr>\n",
       "      <th>0</th>\n",
       "      <td>Огурцы Луховицкие</td>\n",
       "      <td>Укроп</td>\n",
       "      <td>431</td>\n",
       "    </tr>\n",
       "    <tr>\n",
       "      <th>1</th>\n",
       "      <td>Петрушка</td>\n",
       "      <td>Укроп</td>\n",
       "      <td>408</td>\n",
       "    </tr>\n",
       "    <tr>\n",
       "      <th>2</th>\n",
       "      <td>Арбуз</td>\n",
       "      <td>Огурцы Луховицкие</td>\n",
       "      <td>345</td>\n",
       "    </tr>\n",
       "    <tr>\n",
       "      <th>3</th>\n",
       "      <td>Кабачки</td>\n",
       "      <td>Огурцы Луховицкие</td>\n",
       "      <td>326</td>\n",
       "    </tr>\n",
       "    <tr>\n",
       "      <th>4</th>\n",
       "      <td>Кинза</td>\n",
       "      <td>Укроп</td>\n",
       "      <td>303</td>\n",
       "    </tr>\n",
       "  </tbody>\n",
       "</table>\n",
       "</div>"
      ],
      "text/plain": [
       "               good1              good2    0\n",
       "0  Огурцы Луховицкие              Укроп  431\n",
       "1           Петрушка              Укроп  408\n",
       "2              Арбуз  Огурцы Луховицкие  345\n",
       "3            Кабачки  Огурцы Луховицкие  326\n",
       "4              Кинза              Укроп  303"
      ]
     },
     "execution_count": 37,
     "metadata": {},
     "output_type": "execute_result"
    }
   ],
   "source": [
    "# выводим ТОП-5 \n",
    "\n",
    "top"
   ]
  },
  {
   "cell_type": "raw",
   "metadata": {},
   "source": []
  },
  {
   "cell_type": "markdown",
   "metadata": {},
   "source": [
    "# Задание №2. Прогноз"
   ]
  },
  {
   "cell_type": "code",
   "execution_count": 342,
   "metadata": {},
   "outputs": [
    {
     "data": {
      "text/plain": [
       "<matplotlib.axes._subplots.AxesSubplot at 0x7fa97b3ce390>"
      ]
     },
     "execution_count": 342,
     "metadata": {},
     "output_type": "execute_result"
    },
    {
     "data": {
      "image/png": "[encoded data removed]",
      "text/plain": [
       "<Figure size 1080x720 with 1 Axes>"
      ]
     },
     "metadata": {
      "needs_background": "light"
     },
     "output_type": "display_data"
    }
   ],
   "source": [
    "# Смотрим исходные данные, видим, что есть зависимость\n",
    "\n",
    "sales = pd.read_csv('https://stepik.org/media/attachments/lesson/426638/test2_completed.csv')\n",
    "\n",
    "sales.plot(figsize=(15, 10))"
   ]
  },
  {
   "cell_type": "code",
   "execution_count": 343,
   "metadata": {},
   "outputs": [],
   "source": [
    "# Предобработка данных \n",
    "\n",
    "sales = sales.rename(columns={'Дата': 'date', 'Число заказов' : 'amount'})"
   ]
  },
  {
   "cell_type": "code",
   "execution_count": 344,
   "metadata": {},
   "outputs": [
    {
     "data": {
      "text/plain": [
       "date      object\n",
       "amount     int64\n",
       "dtype: object"
      ]
     },
     "execution_count": 344,
     "metadata": {},
     "output_type": "execute_result"
    }
   ],
   "source": [
    "sales.dtypes"
   ]
  },
  {
   "cell_type": "code",
   "execution_count": 345,
   "metadata": {},
   "outputs": [],
   "source": [
    "# Импортируем недостающие библиотеки \n",
    "\n",
    "import seaborn as sns\n",
    "import matplotlib.pyplot as plt\n",
    "import numpy as np"
   ]
  },
  {
   "cell_type": "code",
   "execution_count": 346,
   "metadata": {},
   "outputs": [
    {
     "data": {
      "text/html": [
       "<div>\n",
       "<style scoped>\n",
       "    .dataframe tbody tr th:only-of-type {\n",
       "        vertical-align: middle;\n",
       "    }\n",
       "\n",
       "    .dataframe tbody tr th {\n",
       "        vertical-align: top;\n",
       "    }\n",
       "\n",
       "    .dataframe thead th {\n",
       "        text-align: right;\n",
       "    }\n",
       "</style>\n",
       "<table border=\"1\" class=\"dataframe\">\n",
       "  <thead>\n",
       "    <tr style=\"text-align: right;\">\n",
       "      <th></th>\n",
       "      <th>date</th>\n",
       "      <th>amount</th>\n",
       "    </tr>\n",
       "  </thead>\n",
       "  <tbody>\n",
       "    <tr>\n",
       "      <th>0</th>\n",
       "      <td>2020-01-05</td>\n",
       "      <td>650</td>\n",
       "    </tr>\n",
       "    <tr>\n",
       "      <th>1</th>\n",
       "      <td>2020-01-12</td>\n",
       "      <td>837</td>\n",
       "    </tr>\n",
       "    <tr>\n",
       "      <th>2</th>\n",
       "      <td>2020-01-19</td>\n",
       "      <td>1020</td>\n",
       "    </tr>\n",
       "    <tr>\n",
       "      <th>3</th>\n",
       "      <td>2020-01-26</td>\n",
       "      <td>1176</td>\n",
       "    </tr>\n",
       "    <tr>\n",
       "      <th>4</th>\n",
       "      <td>2020-02-02</td>\n",
       "      <td>1489</td>\n",
       "    </tr>\n",
       "    <tr>\n",
       "      <th>5</th>\n",
       "      <td>2020-02-09</td>\n",
       "      <td>1823</td>\n",
       "    </tr>\n",
       "    <tr>\n",
       "      <th>6</th>\n",
       "      <td>2020-02-16</td>\n",
       "      <td>1991</td>\n",
       "    </tr>\n",
       "    <tr>\n",
       "      <th>7</th>\n",
       "      <td>2020-02-23</td>\n",
       "      <td>2166</td>\n",
       "    </tr>\n",
       "    <tr>\n",
       "      <th>8</th>\n",
       "      <td>2020-03-01</td>\n",
       "      <td>2334</td>\n",
       "    </tr>\n",
       "    <tr>\n",
       "      <th>9</th>\n",
       "      <td>2020-03-08</td>\n",
       "      <td>2607</td>\n",
       "    </tr>\n",
       "    <tr>\n",
       "      <th>10</th>\n",
       "      <td>2020-03-15</td>\n",
       "      <td>2734</td>\n",
       "    </tr>\n",
       "    <tr>\n",
       "      <th>11</th>\n",
       "      <td>2020-03-22</td>\n",
       "      <td>3492</td>\n",
       "    </tr>\n",
       "    <tr>\n",
       "      <th>12</th>\n",
       "      <td>2020-03-29</td>\n",
       "      <td>3608</td>\n",
       "    </tr>\n",
       "    <tr>\n",
       "      <th>13</th>\n",
       "      <td>2020-04-05</td>\n",
       "      <td>3857</td>\n",
       "    </tr>\n",
       "  </tbody>\n",
       "</table>\n",
       "</div>"
      ],
      "text/plain": [
       "          date  amount\n",
       "0   2020-01-05     650\n",
       "1   2020-01-12     837\n",
       "2   2020-01-19    1020\n",
       "3   2020-01-26    1176\n",
       "4   2020-02-02    1489\n",
       "5   2020-02-09    1823\n",
       "6   2020-02-16    1991\n",
       "7   2020-02-23    2166\n",
       "8   2020-03-01    2334\n",
       "9   2020-03-08    2607\n",
       "10  2020-03-15    2734\n",
       "11  2020-03-22    3492\n",
       "12  2020-03-29    3608\n",
       "13  2020-04-05    3857"
      ]
     },
     "execution_count": 346,
     "metadata": {},
     "output_type": "execute_result"
    }
   ],
   "source": [
    "sales"
   ]
  },
  {
   "cell_type": "code",
   "execution_count": 347,
   "metadata": {},
   "outputs": [],
   "source": [
    "# В неделю с 2020-02-02 по 2020-02-09 была проведена массивная акция, повысившая число заказов на 7% - \"убираем\" акцию, \n",
    "# чтобы данные были корректны \n",
    "\n",
    "sales.loc[sales['date'] == '2020-02-02', 'amount'] = sales.loc[sales['date'] == '2020-02-02', 'amount'] / 1.07\n",
    "\n",
    "sales.loc[sales['date'] == '2020-02-09', 'amount'] = sales.loc[sales['date'] == '2020-02-09', 'amount'] / 1.07"
   ]
  },
  {
   "cell_type": "code",
   "execution_count": 348,
   "metadata": {},
   "outputs": [],
   "source": [
    "sales['date'] = pd.to_datetime(sales['date'])"
   ]
  },
  {
   "cell_type": "code",
   "execution_count": 349,
   "metadata": {},
   "outputs": [],
   "source": [
    "# Выделяем в отдельную колонку номер недели \n",
    "\n",
    "sales['week'] = np.arange(len(sales)) + 1"
   ]
  },
  {
   "cell_type": "code",
   "execution_count": 350,
   "metadata": {},
   "outputs": [],
   "source": [
    "# Задаем переменные для построения регрессионной модели \n",
    "\n",
    "x = np.array(sales['week']).reshape((-1, 1))\n",
    "\n",
    "y = np.array(sales['amount'])"
   ]
  },
  {
   "cell_type": "code",
   "execution_count": 351,
   "metadata": {},
   "outputs": [
    {
     "data": {
      "text/plain": [
       "LinearRegression()"
      ]
     },
     "execution_count": 351,
     "metadata": {},
     "output_type": "execute_result"
    }
   ],
   "source": [
    "model = LinearRegression().fit(x, y)\n",
    "\n",
    "model"
   ]
  },
  {
   "cell_type": "code",
   "execution_count": 368,
   "metadata": {},
   "outputs": [
    {
     "name": "stdout",
     "output_type": "stream",
     "text": [
      "241.5864229228714\n",
      "[249.3820684]\n"
     ]
    }
   ],
   "source": [
    "print(model.intercept_) \n",
    "\n",
    "print(model.coef_) "
   ]
  },
  {
   "cell_type": "code",
   "execution_count": 353,
   "metadata": {},
   "outputs": [],
   "source": [
    "future = pd.date_range('2020-04-12', '2020-07-12', freq = 'W')"
   ]
  },
  {
   "cell_type": "code",
   "execution_count": 369,
   "metadata": {},
   "outputs": [
    {
     "data": {
      "text/plain": [
       "DatetimeIndex(['2020-04-12', '2020-04-19', '2020-04-26', '2020-05-03',\n",
       "               '2020-05-10', '2020-05-17', '2020-05-24', '2020-05-31',\n",
       "               '2020-06-07', '2020-06-14', '2020-06-21', '2020-06-28',\n",
       "               '2020-07-05', '2020-07-12'],\n",
       "              dtype='datetime64[ns]', freq='W-SUN')"
      ]
     },
     "execution_count": 369,
     "metadata": {},
     "output_type": "execute_result"
    }
   ],
   "source": [
    "future"
   ]
  },
  {
   "cell_type": "code",
   "execution_count": 355,
   "metadata": {},
   "outputs": [
    {
     "name": "stderr",
     "output_type": "stream",
     "text": [
      "/opt/tljh/user/lib/python3.7/site-packages/pandas/core/indexing.py:670: SettingWithCopyWarning: \n",
      "A value is trying to be set on a copy of a slice from a DataFrame\n",
      "\n",
      "See the caveats in the documentation: https://pandas.pydata.org/pandas-docs/stable/user_guide/indexing.html#returning-a-view-versus-a-copy\n",
      "  iloc._setitem_with_indexer(indexer, value)\n"
     ]
    }
   ],
   "source": [
    "a = 14\n",
    "\n",
    "for i in range(len(future)):\n",
    "    sales.loc[a] = future[i]\n",
    "    sales['date'].loc[a] = future[i]\n",
    "    sales['amount'].loc[a] = 0\n",
    "    sales['week'].loc[a] = a+1\n",
    "    a = a + 1 \n",
    "    \n",
    "sales = sales.drop(columns=['amount'])    "
   ]
  },
  {
   "cell_type": "code",
   "execution_count": 356,
   "metadata": {},
   "outputs": [
    {
     "name": "stdout",
     "output_type": "stream",
     "text": [
      "[ 491  740  990 1239 1488 1738 1987 2237 2486 2735 2985 3234 3484 3733\n",
      " 3982 4232 4481 4730 4980 5229 5479 5728 5977 6227 6476 6726 6975 7224]\n"
     ]
    }
   ],
   "source": [
    "# Рассчитываем с применением регрессионной модели\n",
    "x1 = np.array(sales['week']).reshape((-1, 1))\n",
    "\n",
    "y1 = model.predict(x1).round(0).astype(int)\n",
    "\n",
    "print(y1)"
   ]
  },
  {
   "cell_type": "code",
   "execution_count": 359,
   "metadata": {},
   "outputs": [
    {
     "data": {
      "text/html": [
       "<div>\n",
       "<style scoped>\n",
       "    .dataframe tbody tr th:only-of-type {\n",
       "        vertical-align: middle;\n",
       "    }\n",
       "\n",
       "    .dataframe tbody tr th {\n",
       "        vertical-align: top;\n",
       "    }\n",
       "\n",
       "    .dataframe thead th {\n",
       "        text-align: right;\n",
       "    }\n",
       "</style>\n",
       "<table border=\"1\" class=\"dataframe\">\n",
       "  <thead>\n",
       "    <tr style=\"text-align: right;\">\n",
       "      <th></th>\n",
       "      <th>date</th>\n",
       "      <th>week</th>\n",
       "      <th>amount</th>\n",
       "    </tr>\n",
       "  </thead>\n",
       "  <tbody>\n",
       "    <tr>\n",
       "      <th>0</th>\n",
       "      <td>2020-01-05</td>\n",
       "      <td>1</td>\n",
       "      <td>491</td>\n",
       "    </tr>\n",
       "    <tr>\n",
       "      <th>1</th>\n",
       "      <td>2020-01-12</td>\n",
       "      <td>2</td>\n",
       "      <td>740</td>\n",
       "    </tr>\n",
       "    <tr>\n",
       "      <th>2</th>\n",
       "      <td>2020-01-19</td>\n",
       "      <td>3</td>\n",
       "      <td>990</td>\n",
       "    </tr>\n",
       "    <tr>\n",
       "      <th>3</th>\n",
       "      <td>2020-01-26</td>\n",
       "      <td>4</td>\n",
       "      <td>1239</td>\n",
       "    </tr>\n",
       "    <tr>\n",
       "      <th>4</th>\n",
       "      <td>2020-02-02</td>\n",
       "      <td>5</td>\n",
       "      <td>1488</td>\n",
       "    </tr>\n",
       "  </tbody>\n",
       "</table>\n",
       "</div>"
      ],
      "text/plain": [
       "        date week  amount\n",
       "0 2020-01-05    1     491\n",
       "1 2020-01-12    2     740\n",
       "2 2020-01-19    3     990\n",
       "3 2020-01-26    4    1239\n",
       "4 2020-02-02    5    1488"
      ]
     },
     "execution_count": 359,
     "metadata": {},
     "output_type": "execute_result"
    }
   ],
   "source": [
    "sales['amount'] = y1\n",
    "\n",
    "sales.head()"
   ]
  },
  {
   "cell_type": "code",
   "execution_count": 367,
   "metadata": {},
   "outputs": [
    {
     "data": {
      "image/png": "[encoded data removed]",
      "text/plain": [
       "<Figure size 1440x720 with 1 Axes>"
      ]
     },
     "metadata": {
      "needs_background": "light"
     },
     "output_type": "display_data"
    }
   ],
   "source": [
    "plt.figure(figsize=(20, 10))\n",
    "\n",
    "plt.scatter(sales['date'], sales['amount'])\n",
    "\n",
    "plt.plot(sales['date'], sales['amount'])\n",
    "\n",
    "plt.show()"
   ]
  },
  {
   "cell_type": "code",
   "execution_count": null,
   "metadata": {},
   "outputs": [],
   "source": [
    "# Комментарии:\n",
    "# 1. Для выполнения данного задания я использовала линейную регрссию (статья 'Линейная регрессия в Python' В. Костерина).\n",
    "# link = https://chel-center.ru/python-yfc/2020/12/20/linejnaya-regressiya-v-python/\n",
    "\n",
    "# 2. На мой взгляд, для качественного прогнозирования мало исходных данных. Нет возможности поймать сезонность. \n",
    "\n",
    "# 3. Самое challenging задание для меня оказалось =)) "
   ]
  },
  {
   "cell_type": "code",
   "execution_count": null,
   "metadata": {},
   "outputs": [],
   "source": []
  },
  {
   "cell_type": "markdown",
   "metadata": {},
   "source": [
    "# Задание №3. Таблица"
   ]
  },
  {
   "cell_type": "code",
   "execution_count": 372,
   "metadata": {},
   "outputs": [],
   "source": [
    "# Импортируем недостающие библиотеки\n",
    "\n",
    "import pandahouse as ph"
   ]
  },
  {
   "cell_type": "code",
   "execution_count": 373,
   "metadata": {},
   "outputs": [],
   "source": [
    "# Подключаем нашу базу\n",
    "\n",
    "connection_1 = {'host': 'https://clickhouse.lab.karpov.courses',\n",
    "                'database': 'default',\n",
    "                'user': 'student',\n",
    "                'password': 'dpo_python_2020'}"
   ]
  },
  {
   "cell_type": "code",
   "execution_count": 377,
   "metadata": {},
   "outputs": [],
   "source": [
    "# В данном варианте решила использовать IF вместо CASE + оконную функцию\n",
    "\n",
    "query = ''' \n",
    "\n",
    "SELECT\n",
    "        purchase_date,\n",
    "        purchase_id,\n",
    "        client_id,\n",
    "        client_age, \n",
    "        client_registration_age,\n",
    "        promotion_name,\n",
    "        category_name,\n",
    "        partner_name,\n",
    "        client_city, \n",
    "        city,\n",
    "        revenue,\n",
    "        quantity,\n",
    "        IF(purchase_amount=1, 'new', 'loyal') AS client_category\n",
    "FROM\n",
    "        (SELECT\n",
    "            toFloat64(purchase.price*purchase.quantity) AS revenue,\n",
    "            toInt64(purchase.quantity) as quantity,\n",
    "            purchase.purchase_date AS purchase_date ,\n",
    "            purchase.purchase_id AS purchase_id ,\n",
    "            purchase.client_id AS client_id ,\n",
    "            promotion.category_name AS category_name,\n",
    "            promotion.promotion_name AS promotion_name ,\n",
    "            promotion.partner_name AS partner_name,\n",
    "            client_city, \n",
    "            city,\n",
    "            dateDiff('year', client.birth_date, toDate(now( ))) AS client_age, \n",
    "            dateDiff('year', client.registration, toDate(now( ))) AS client_registration_age,\n",
    "            row_number(purchase_date) over w as purchase_amount\n",
    "          \n",
    "    FROM \n",
    "       project_variant_2.purchase purchase\n",
    "       \n",
    "    INNER JOIN \n",
    "       project_variant_2.promotion promotion\n",
    "       \n",
    "    ON purchase.promotion_id = promotion.promotion_id\n",
    "    \n",
    "    INNER JOIN \n",
    "        project_variant_2.client AS client \n",
    "        \n",
    "    ON client.client_id = purchase.client_id  \n",
    "        \n",
    "    INNER JOIN \n",
    "    \n",
    "        (SELECT DISTINCT \n",
    "                    city_id,\n",
    "                    city   \n",
    "                \n",
    "        FROM \n",
    "                project_variant_2.city) \n",
    "                                     a\n",
    "    ON purchase.city_id = a.city_id   \n",
    "        \n",
    "    INNER JOIN\n",
    "    \n",
    "        (SELECT DISTINCT \n",
    "                client_city_id, \n",
    "                client_city     \n",
    "        FROM \n",
    "                project_variant_2.city) \n",
    "        \n",
    "                                     cc\n",
    "    ON client.client_city_id = cc.client_city_id\n",
    "                          \n",
    "    WHERE purchase.status= 1 AND purchase.purchase_date BETWEEN '2020-05-01' AND '2020-08-01' \n",
    "    \n",
    "    WINDOW w AS (partition by client_id order by purchase_date) )  \n",
    "    \n",
    "'''"
   ]
  },
  {
   "cell_type": "code",
   "execution_count": 378,
   "metadata": {},
   "outputs": [],
   "source": [
    "task3 = ph.read_clickhouse(connection=connection_1, query=query)"
   ]
  },
  {
   "cell_type": "code",
   "execution_count": 365,
   "metadata": {},
   "outputs": [
    {
     "data": {
      "text/html": [
       "<div>\n",
       "<style scoped>\n",
       "    .dataframe tbody tr th:only-of-type {\n",
       "        vertical-align: middle;\n",
       "    }\n",
       "\n",
       "    .dataframe tbody tr th {\n",
       "        vertical-align: top;\n",
       "    }\n",
       "\n",
       "    .dataframe thead th {\n",
       "        text-align: right;\n",
       "    }\n",
       "</style>\n",
       "<table border=\"1\" class=\"dataframe\">\n",
       "  <thead>\n",
       "    <tr style=\"text-align: right;\">\n",
       "      <th></th>\n",
       "      <th>purchase_date</th>\n",
       "      <th>purchase_id</th>\n",
       "      <th>client_id</th>\n",
       "      <th>client_age</th>\n",
       "      <th>client_registration_age</th>\n",
       "      <th>promotion_name</th>\n",
       "      <th>category_name</th>\n",
       "      <th>partner_name</th>\n",
       "      <th>client_city</th>\n",
       "      <th>city</th>\n",
       "      <th>revenue</th>\n",
       "      <th>quantity</th>\n",
       "      <th>client_category</th>\n",
       "    </tr>\n",
       "  </thead>\n",
       "  <tbody>\n",
       "    <tr>\n",
       "      <th>0</th>\n",
       "      <td>2020-07-20</td>\n",
       "      <td>3002</td>\n",
       "      <td>1</td>\n",
       "      <td>26</td>\n",
       "      <td>1</td>\n",
       "      <td>campaign_2</td>\n",
       "      <td>Фрукты</td>\n",
       "      <td>ООО Ширяева, Хохлова и Тимофеева</td>\n",
       "      <td>Вена</td>\n",
       "      <td>Новгород</td>\n",
       "      <td>660.0</td>\n",
       "      <td>3</td>\n",
       "      <td>new</td>\n",
       "    </tr>\n",
       "    <tr>\n",
       "      <th>1</th>\n",
       "      <td>2020-07-24</td>\n",
       "      <td>3626</td>\n",
       "      <td>1</td>\n",
       "      <td>26</td>\n",
       "      <td>1</td>\n",
       "      <td>campaign_2</td>\n",
       "      <td>Фрукты</td>\n",
       "      <td>ООО Ширяева, Хохлова и Тимофеева</td>\n",
       "      <td>Вена</td>\n",
       "      <td>Ярославль</td>\n",
       "      <td>2280.0</td>\n",
       "      <td>8</td>\n",
       "      <td>loyal</td>\n",
       "    </tr>\n",
       "    <tr>\n",
       "      <th>2</th>\n",
       "      <td>2020-07-26</td>\n",
       "      <td>918</td>\n",
       "      <td>1</td>\n",
       "      <td>26</td>\n",
       "      <td>1</td>\n",
       "      <td>campaign_4</td>\n",
       "      <td>Прочее</td>\n",
       "      <td>KarpovCourses</td>\n",
       "      <td>Вена</td>\n",
       "      <td>Минск</td>\n",
       "      <td>615.0</td>\n",
       "      <td>3</td>\n",
       "      <td>loyal</td>\n",
       "    </tr>\n",
       "    <tr>\n",
       "      <th>3</th>\n",
       "      <td>2020-05-15</td>\n",
       "      <td>7362</td>\n",
       "      <td>2</td>\n",
       "      <td>23</td>\n",
       "      <td>3</td>\n",
       "      <td>campaign_1</td>\n",
       "      <td>Бакалея</td>\n",
       "      <td>Google</td>\n",
       "      <td>Щучинщина</td>\n",
       "      <td>Вена</td>\n",
       "      <td>180.0</td>\n",
       "      <td>9</td>\n",
       "      <td>new</td>\n",
       "    </tr>\n",
       "    <tr>\n",
       "      <th>4</th>\n",
       "      <td>2020-05-21</td>\n",
       "      <td>6702</td>\n",
       "      <td>2</td>\n",
       "      <td>23</td>\n",
       "      <td>3</td>\n",
       "      <td>campaign_4</td>\n",
       "      <td>Прочее</td>\n",
       "      <td>KarpovCourses</td>\n",
       "      <td>Щучинщина</td>\n",
       "      <td>Минск</td>\n",
       "      <td>465.0</td>\n",
       "      <td>3</td>\n",
       "      <td>loyal</td>\n",
       "    </tr>\n",
       "  </tbody>\n",
       "</table>\n",
       "</div>"
      ],
      "text/plain": [
       "  purchase_date  purchase_id  client_id  client_age  client_registration_age  \\\n",
       "0    2020-07-20         3002          1          26                        1   \n",
       "1    2020-07-24         3626          1          26                        1   \n",
       "2    2020-07-26          918          1          26                        1   \n",
       "3    2020-05-15         7362          2          23                        3   \n",
       "4    2020-05-21         6702          2          23                        3   \n",
       "\n",
       "  promotion_name category_name                      partner_name client_city  \\\n",
       "0     campaign_2        Фрукты  ООО Ширяева, Хохлова и Тимофеева        Вена   \n",
       "1     campaign_2        Фрукты  ООО Ширяева, Хохлова и Тимофеева        Вена   \n",
       "2     campaign_4        Прочее                     KarpovCourses        Вена   \n",
       "3     campaign_1       Бакалея                            Google   Щучинщина   \n",
       "4     campaign_4        Прочее                     KarpovCourses   Щучинщина   \n",
       "\n",
       "        city  revenue  quantity client_category  \n",
       "0   Новгород    660.0         3             new  \n",
       "1  Ярославль   2280.0         8           loyal  \n",
       "2      Минск    615.0         3           loyal  \n",
       "3       Вена    180.0         9             new  \n",
       "4      Минск    465.0         3           loyal  "
      ]
     },
     "execution_count": 365,
     "metadata": {},
     "output_type": "execute_result"
    }
   ],
   "source": [
    "task3.head()"
   ]
  },
  {
   "cell_type": "code",
   "execution_count": null,
   "metadata": {},
   "outputs": [],
   "source": [
    "# Комментарии:\n",
    "# Достаточно интересное задание, пришлось вспомнить и погуглить многие функции =)) "
   ]
  }
 ],
 "metadata": {
  "kernelspec": {
   "display_name": "Python 3",
   "language": "python",
   "name": "python3"
  },
  "language_info": {
   "codemirror_mode": {
    "name": "ipython",
    "version": 3
   },
   "file_extension": ".py",
   "mimetype": "text/x-python",
   "name": "python",
   "nbconvert_exporter": "python",
   "pygments_lexer": "ipython3",
   "version": "3.7.3"
  }
 },
 "nbformat": 4,
 "nbformat_minor": 4
}
